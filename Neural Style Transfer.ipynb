{
 "cells": [
  {
   "cell_type": "code",
   "execution_count": null,
   "metadata": {},
   "outputs": [],
   "source": [
    "!git clone https://github.com/WiraDKP/neural_style_transfer.git"
   ]
  },
  {
   "cell_type": "code",
   "execution_count": null,
   "metadata": {},
   "outputs": [],
   "source": [
    "cd neural_style_transfer"
   ]
  },
  {
   "cell_type": "code",
   "execution_count": null,
   "metadata": {},
   "outputs": [],
   "source": [
    "import torch\n",
    "from torch import optim\n",
    "\n",
    "device = torch.device(\"cuda:0\" if torch.cuda.is_available() else \"cpu\")\n",
    "device"
   ]
  },
  {
   "cell_type": "markdown",
   "metadata": {},
   "source": [
    "# Import Data"
   ]
  },
  {
   "cell_type": "code",
   "execution_count": null,
   "metadata": {},
   "outputs": [],
   "source": [
    "from src.utils import load_image\n",
    "from torchvision import transforms"
   ]
  },
  {
   "cell_type": "code",
   "execution_count": null,
   "metadata": {},
   "outputs": [],
   "source": [
    "transform = transforms.Compose([\n",
    "    transforms.Resize(300),\n",
    "    transforms.ToTensor(),\n",
    "    transforms.Normalize([0.485, 0.456, 0.406], [0.229, 0.224, 0.225])\n",
    "])  \n",
    "    \n",
    "content = load_image(\"data/content/najwa.jpg\", transform).to(device)\n",
    "style = load_image(\"data/style/barli.jpg\", transform).to(device)\n",
    "\n",
    "output = load_image(\"data/content/najwa.jpg\", transform).to(device)\n",
    "output.requires_grad = True"
   ]
  },
  {
   "cell_type": "markdown",
   "metadata": {},
   "source": [
    "# Training Preparation -> MCO"
   ]
  },
  {
   "cell_type": "code",
   "execution_count": null,
   "metadata": {},
   "outputs": [],
   "source": [
    "from src.model import NeuralStyleTransfer\n",
    "from src.criterion import criterion"
   ]
  },
  {
   "cell_type": "code",
   "execution_count": null,
   "metadata": {},
   "outputs": [],
   "source": [
    "model = NeuralStyleTransfer().to(device)\n",
    "optimizer = optim.AdamW([output], lr=0.05)"
   ]
  },
  {
   "cell_type": "markdown",
   "metadata": {},
   "source": [
    "# Training"
   ]
  },
  {
   "cell_type": "markdown",
   "metadata": {},
   "source": [
    "## Extract Fitur"
   ]
  },
  {
   "cell_type": "markdown",
   "metadata": {},
   "source": [
    "Arsitektur Feature Extractor VGG16\n",
    "```\n",
    "(features)\n",
    "      0-3   ConvReLU() x2\n",
    "        4   MaxPool2d()\n",
    "      5-8   ConvReLU() x2\n",
    "        9   MaxPool2d()\n",
    "    10-15   ConvReLU() x4\n",
    "       16   MaxPool2d()\n",
    "    17-22   ConvReLU() x4\n",
    "       23   MaxPool2d()\n",
    "    24-29   ConvReLU() x4\n",
    "       30   MaxPool2d()\n",
    "       \n",
    "(avgpool)       \n",
    "            AdaptiveAvgPool2d()\n",
    "\n",
    "(classifier)\n",
    "      0-2   LinearBlock()\n",
    "      3-5   LinearBlock()\n",
    "        6   Linear()\n",
    "```\n",
    "\n",
    "Layer yang direkomendasikan\n",
    "```\n",
    "[\"4\", \"8\", \"13\", \"20\", \"27\"]\n",
    "```"
   ]
  },
  {
   "cell_type": "code",
   "execution_count": null,
   "metadata": {},
   "outputs": [],
   "source": [
    "content_features = model(content, layers=[\"4\", \"8\"])\n",
    "style_features = model(style, layers=[\"4\", \"8\"])"
   ]
  },
  {
   "cell_type": "markdown",
   "metadata": {},
   "source": [
    "## Training Loop"
   ]
  },
  {
   "cell_type": "code",
   "execution_count": null,
   "metadata": {},
   "outputs": [],
   "source": [
    "from src.utils import draw_styled_image"
   ]
  },
  {
   "cell_type": "code",
   "execution_count": null,
   "metadata": {},
   "outputs": [],
   "source": [
    "max_epochs = 2500\n",
    "for epoch in range(1, max_epochs+1):\n",
    "    output_features = model(output, layers=[\"4\", \"8\"])\n",
    "    loss = criterion(content_features, style_features, output_features, output_features, style_weight=1e6)\n",
    "    loss.backward()\n",
    "    \n",
    "    optimizer.step()\n",
    "    optimizer.zero_grad()\n",
    "    \n",
    "    if epoch % 100 == 0:\n",
    "        print(f\"Epoch: {epoch:5} | Loss: {loss.item():.5f}\")\n",
    "        _ = draw_styled_image(output)"
   ]
  }
 ],
 "metadata": {
  "kernelspec": {
   "display_name": "Python [conda env:jcop]",
   "language": "python",
   "name": "conda-env-jcop-py"
  },
  "language_info": {
   "codemirror_mode": {
    "name": "ipython",
    "version": 3
   },
   "file_extension": ".py",
   "mimetype": "text/x-python",
   "name": "python",
   "nbconvert_exporter": "python",
   "pygments_lexer": "ipython3",
   "version": "3.7.6"
  }
 },
 "nbformat": 4,
 "nbformat_minor": 4
}
