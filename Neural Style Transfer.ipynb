{
 "cells": [
  {
   "cell_type": "code",
   "execution_count": null,
   "metadata": {},
   "outputs": [],
   "source": [
    "!git clone https://github.com/WiraDKP/neural_style_transfer.git\n",
    "cd neural_style_transfer"
   ]
  },
  {
   "cell_type": "code",
   "execution_count": null,
   "metadata": {},
   "outputs": [],
   "source": [
    "import torch\n",
    "from torch import optim\n",
    "\n",
    "device = torch.device(\"cuda:0\" if torch.cuda.is_available() else \"cpu\")\n",
    "device"
   ]
  },
  {
   "cell_type": "markdown",
   "metadata": {},
   "source": [
    "# Import Data"
   ]
  },
  {
   "cell_type": "code",
   "execution_count": null,
   "metadata": {},
   "outputs": [],
   "source": [
    "from src.utils import load_image\n",
    "from torchvision import transforms"
   ]
  },
  {
   "cell_type": "code",
   "execution_count": null,
   "metadata": {},
   "outputs": [],
   "source": [
    "transform = transforms.Compose([\n",
    "    transforms.Resize(300),\n",
    "    transforms.ToTensor(),\n",
    "    transforms.Normalize([0.485, 0.456, 0.406], [0.229, 0.224, 0.225])\n",
    "])  \n",
    "    \n",
    "content = load_image(\"data/content/petani.jpg\", transform).to(device)\n",
    "style = load_image(\"data/style/style1.jpg\", transform).to(device)\n",
    "\n",
    "output = load_image(\"data/content/petani.jpg\", transform).to(device)\n",
    "output.requires_grad = True"
   ]
  },
  {
   "cell_type": "markdown",
   "metadata": {},
   "source": [
    "# Training Preparation -> MCO"
   ]
  },
  {
   "cell_type": "code",
   "execution_count": null,
   "metadata": {},
   "outputs": [],
   "source": [
    "from src.model import NeuralStyleTransfer\n",
    "from src.criterion import criterion"
   ]
  },
  {
   "cell_type": "code",
   "execution_count": null,
   "metadata": {},
   "outputs": [],
   "source": [
    "model = NeuralStyleTransfer()\n",
    "optimizer = optim.AdamW([output], lr=0.001)"
   ]
  },
  {
   "cell_type": "markdown",
   "metadata": {},
   "source": [
    "# Training"
   ]
  },
  {
   "cell_type": "markdown",
   "metadata": {},
   "source": [
    "### Extract Fitur"
   ]
  },
  {
   "cell_type": "markdown",
   "metadata": {},
   "source": [
    "Arsitektur Feature Extractor VGG19 with Batchnorm \n",
    "```\n",
    "(features)\n",
    "      0-5   ConvBnReLU() x2\n",
    "        6   MaxPool2d()\n",
    "     7-12   ConvBnReLU() x2\n",
    "       13   MaxPool2d()\n",
    "    14-25   ConvBnReLU() x4\n",
    "       26   MaxPool2d()\n",
    "    27-38   ConvBnReLU() x4\n",
    "       39   MaxPool2d()\n",
    "    40-51   ConvBnReLU() x4\n",
    "       52   MaxPool2d()\n",
    "       \n",
    "(avgpool)       \n",
    "            AdaptiveAvgPool2d()\n",
    "\n",
    "(classifier)\n",
    "      0-2   LinearBlock()\n",
    "      3-5   LinearBlock()\n",
    "        6   Linear()\n",
    "```"
   ]
  },
  {
   "cell_type": "code",
   "execution_count": null,
   "metadata": {},
   "outputs": [],
   "source": [
    "content_features = model(content, layers=[\"40\"])\n",
    "style_features = model(style, layers=[\"0\", \"7\", \"14\", \"27\", \"40\"])"
   ]
  },
  {
   "cell_type": "markdown",
   "metadata": {},
   "source": [
    "## Training Loop"
   ]
  },
  {
   "cell_type": "code",
   "execution_count": null,
   "metadata": {},
   "outputs": [],
   "source": [
    "from src.utils import draw_styled_image"
   ]
  },
  {
   "cell_type": "code",
   "execution_count": null,
   "metadata": {},
   "outputs": [],
   "source": [
    "max_epochs = 10\n",
    "for epoch in range(1, max_epochs+1):\n",
    "    output_features = model(output, layers=[\"0\", \"7\", \"14\", \"27\", \"40\"])\n",
    "    loss = criterion(content_features, style_features, output_features)\n",
    "    loss.backward()\n",
    "    \n",
    "    optimizer.step()\n",
    "    optimizer.zero_grad()\n",
    "    \n",
    "    if epoch % 5 == 0:\n",
    "        print(f\"Epoch: {epoch:5} | Loss: {loss.item():.5f}\")\n",
    "        draw_styled_image(output)"
   ]
  }
 ],
 "metadata": {
  "kernelspec": {
   "display_name": "Python [conda env:jcop]",
   "language": "python",
   "name": "conda-env-jcop-py"
  },
  "language_info": {
   "codemirror_mode": {
    "name": "ipython",
    "version": 3
   },
   "file_extension": ".py",
   "mimetype": "text/x-python",
   "name": "python",
   "nbconvert_exporter": "python",
   "pygments_lexer": "ipython3",
   "version": "3.7.6"
  }
 },
 "nbformat": 4,
 "nbformat_minor": 4
}
